{
 "cells": [
  {
   "cell_type": "code",
   "execution_count": 2,
   "metadata": {
    "tags": []
   },
   "outputs": [],
   "source": [
    "import pandas as pd\n",
    "import numpy as np\n",
    "import matplotlib.pyplot as plt\n",
    "import re\n",
    "from Bio.Seq import Seq"
   ]
  },
  {
   "cell_type": "markdown",
   "metadata": {},
   "source": [
    "# Dataset insights: Complete dataset"
   ]
  },
  {
   "cell_type": "code",
   "execution_count": 3,
   "metadata": {
    "collapsed": false,
    "jupyter": {
     "outputs_hidden": false
    },
    "pycharm": {
     "name": "#%%\n"
    }
   },
   "outputs": [],
   "source": [
    "df_dataset = pd.read_csv(\"../data/dataset/final.csv\")"
   ]
  },
  {
   "cell_type": "markdown",
   "metadata": {},
   "source": [
    "## Number of parent child pairs"
   ]
  },
  {
   "cell_type": "code",
   "execution_count": 4,
   "metadata": {},
   "outputs": [
    {
     "data": {
      "text/plain": [
       "parent    9199\n",
       "child     9199\n",
       "dtype: int64"
      ]
     },
     "execution_count": 4,
     "metadata": {},
     "output_type": "execute_result"
    }
   ],
   "source": [
    "df_dataset.count()"
   ]
  },
  {
   "cell_type": "markdown",
   "metadata": {},
   "source": [
    "## Nucleotide distribution"
   ]
  },
  {
   "cell_type": "code",
   "execution_count": 5,
   "metadata": {},
   "outputs": [],
   "source": [
    "def count_nucleotide(seq, nucleotide):\n",
    "    return seq.count(nucleotide)"
   ]
  },
  {
   "cell_type": "code",
   "execution_count": 6,
   "metadata": {
    "collapsed": false,
    "jupyter": {
     "outputs_hidden": false
    },
    "pycharm": {
     "name": "#%%\n"
    }
   },
   "outputs": [
    {
     "name": "stdout",
     "output_type": "stream",
     "text": [
      "Index(['parent', 'child', 'count_A', 'count_T', 'count_G', 'count_C',\n",
      "       'count_N', 'count_-'],\n",
      "      dtype='object')\n"
     ]
    }
   ],
   "source": [
    "df_nucleotide_distribution = df_dataset.copy()\n",
    "\n",
    "df_nucleotide_distribution[\"count_A\"] = df_nucleotide_distribution.apply(lambda row: count_nucleotide(row[\"parent\"], \"A\"), axis=1)\n",
    "df_nucleotide_distribution[\"count_T\"] = df_nucleotide_distribution.apply(lambda row: count_nucleotide(row[\"parent\"], \"T\"), axis=1)\n",
    "df_nucleotide_distribution[\"count_G\"] = df_nucleotide_distribution.apply(lambda row: count_nucleotide(row[\"parent\"], \"G\"), axis=1)\n",
    "df_nucleotide_distribution[\"count_C\"] = df_nucleotide_distribution.apply(lambda row: count_nucleotide(row[\"parent\"], \"C\"), axis=1)\n",
    "df_nucleotide_distribution[\"count_N\"] = df_nucleotide_distribution.apply(lambda row: count_nucleotide(row[\"parent\"], \"N\"), axis=1)\n",
    "df_nucleotide_distribution[\"count_-\"] = df_nucleotide_distribution.apply(lambda row: count_nucleotide(row[\"parent\"], \"-\"), axis=1)\n",
    "\n",
    "print(df_nucleotide_distribution.columns)"
   ]
  },
  {
   "cell_type": "code",
   "execution_count": 7,
   "metadata": {},
   "outputs": [
    {
     "data": {
      "text/plain": [
       "(array([1.000e+00, 0.000e+00, 0.000e+00, 0.000e+00, 0.000e+00, 0.000e+00,\n",
       "        0.000e+00, 0.000e+00, 0.000e+00, 0.000e+00, 0.000e+00, 0.000e+00,\n",
       "        0.000e+00, 0.000e+00, 0.000e+00, 0.000e+00, 0.000e+00, 0.000e+00,\n",
       "        0.000e+00, 0.000e+00, 0.000e+00, 0.000e+00, 0.000e+00, 0.000e+00,\n",
       "        0.000e+00, 0.000e+00, 1.000e+00, 0.000e+00, 0.000e+00, 0.000e+00,\n",
       "        0.000e+00, 0.000e+00, 0.000e+00, 0.000e+00, 0.000e+00, 0.000e+00,\n",
       "        0.000e+00, 0.000e+00, 0.000e+00, 0.000e+00, 0.000e+00, 1.000e+00,\n",
       "        0.000e+00, 0.000e+00, 0.000e+00, 0.000e+00, 0.000e+00, 0.000e+00,\n",
       "        0.000e+00, 0.000e+00, 0.000e+00, 0.000e+00, 0.000e+00, 0.000e+00,\n",
       "        0.000e+00, 0.000e+00, 2.000e+00, 0.000e+00, 0.000e+00, 2.000e+00,\n",
       "        3.000e+00, 0.000e+00, 0.000e+00, 2.000e+00, 0.000e+00, 0.000e+00,\n",
       "        0.000e+00, 3.000e+00, 4.000e+00, 0.000e+00, 4.000e+00, 5.000e+00,\n",
       "        3.000e+00, 3.000e+00, 1.000e+00, 4.000e+00, 1.300e+01, 1.300e+01,\n",
       "        2.100e+01, 1.700e+01, 4.000e+01, 4.900e+01, 6.700e+01, 6.400e+01,\n",
       "        9.500e+01, 6.300e+01, 1.040e+02, 1.190e+02, 9.000e+01, 1.410e+02,\n",
       "        1.830e+02, 3.110e+02, 2.610e+02, 9.430e+02, 6.330e+02, 6.800e+02,\n",
       "        9.390e+02, 2.983e+03, 3.050e+02, 1.026e+03]),\n",
       " array([6566.  , 6589.92, 6613.84, 6637.76, 6661.68, 6685.6 , 6709.52,\n",
       "        6733.44, 6757.36, 6781.28, 6805.2 , 6829.12, 6853.04, 6876.96,\n",
       "        6900.88, 6924.8 , 6948.72, 6972.64, 6996.56, 7020.48, 7044.4 ,\n",
       "        7068.32, 7092.24, 7116.16, 7140.08, 7164.  , 7187.92, 7211.84,\n",
       "        7235.76, 7259.68, 7283.6 , 7307.52, 7331.44, 7355.36, 7379.28,\n",
       "        7403.2 , 7427.12, 7451.04, 7474.96, 7498.88, 7522.8 , 7546.72,\n",
       "        7570.64, 7594.56, 7618.48, 7642.4 , 7666.32, 7690.24, 7714.16,\n",
       "        7738.08, 7762.  , 7785.92, 7809.84, 7833.76, 7857.68, 7881.6 ,\n",
       "        7905.52, 7929.44, 7953.36, 7977.28, 8001.2 , 8025.12, 8049.04,\n",
       "        8072.96, 8096.88, 8120.8 , 8144.72, 8168.64, 8192.56, 8216.48,\n",
       "        8240.4 , 8264.32, 8288.24, 8312.16, 8336.08, 8360.  , 8383.92,\n",
       "        8407.84, 8431.76, 8455.68, 8479.6 , 8503.52, 8527.44, 8551.36,\n",
       "        8575.28, 8599.2 , 8623.12, 8647.04, 8670.96, 8694.88, 8718.8 ,\n",
       "        8742.72, 8766.64, 8790.56, 8814.48, 8838.4 , 8862.32, 8886.24,\n",
       "        8910.16, 8934.08, 8958.  ]),\n",
       " <BarContainer object of 100 artists>)"
      ]
     },
     "execution_count": 7,
     "metadata": {},
     "output_type": "execute_result"
    },
    {
     "data": {
      "image/png": "[encoded data removed]",
      "text/plain": [
       "<Figure size 432x288 with 1 Axes>"
      ]
     },
     "metadata": {
      "needs_background": "light"
     },
     "output_type": "display_data"
    }
   ],
   "source": [
    "plt.hist(df_nucleotide_distribution[\"count_A\"], bins=100)\n",
    "#TODO: nice plots of nucleotide distibution"
   ]
  },
  {
   "cell_type": "markdown",
   "metadata": {},
   "source": [
    "## Differences between parent child sequences"
   ]
  },
  {
   "cell_type": "code",
   "execution_count": 8,
   "metadata": {},
   "outputs": [
    {
     "name": "stdout",
     "output_type": "stream",
     "text": [
      "From 9199 parent child pairs 396 pairs are completely equal\n"
     ]
    }
   ],
   "source": [
    "def equal_columns(df_dataset):\n",
    "    comparison_column = np.where(df_dataset[\"parent\"] == df_dataset[\"child\"], True, False)\n",
    "    print(\"From {} parent child pairs {} pairs are completely equal\".format(df_dataset[\"parent\"].count(), comparison_column.sum()))\n",
    "\n",
    "equal_columns(df_dataset)"
   ]
  },
  {
   "cell_type": "code",
   "execution_count": 9,
   "metadata": {},
   "outputs": [],
   "source": [
    "def count_string_differences(seq1, seq2):\n",
    "    count = sum(1 for a, b in zip(seq1, seq2) if a != b)\n",
    "    return count"
   ]
  },
  {
   "cell_type": "code",
   "execution_count": 10,
   "metadata": {},
   "outputs": [],
   "source": [
    "df_dataset[\"count_different_nucleotides\"] = df_dataset.apply(lambda row: count_string_differences(row[\"parent\"], row[\"child\"]), axis=1)"
   ]
  },
  {
   "cell_type": "code",
   "execution_count": 11,
   "metadata": {},
   "outputs": [
    {
     "data": {
      "image/png": "[encoded data removed]",
      "text/plain": [
       "<Figure size 432x288 with 1 Axes>"
      ]
     },
     "metadata": {
      "needs_background": "light"
     },
     "output_type": "display_data"
    }
   ],
   "source": [
    "plt.hist(df_dataset[\"count_different_nucleotides\"], bins=100)\n",
    "plt.xlabel('Number of different characters')\n",
    "plt.ylabel('Number of parent child pairs')\n",
    "plt.title('Differences between parent child pairs')\n",
    "plt.savefig('distributionDifferencesParentChild.png')\n",
    "plt.show()"
   ]
  },
  {
   "cell_type": "markdown",
   "metadata": {},
   "source": [
    "## Which genetic loci are often mutated?"
   ]
  },
  {
   "cell_type": "code",
   "execution_count": 12,
   "metadata": {},
   "outputs": [],
   "source": [
    "def boolean_mask_of_differences(parent, child):\n",
    "    # mutation = difference -> True\n",
    "    return np.array(list(parent)) != np.array(list(child))"
   ]
  },
  {
   "cell_type": "code",
   "execution_count": 13,
   "metadata": {},
   "outputs": [],
   "source": [
    "df_mutation_locis = df_dataset.copy()\n",
    "df_mutation_locis[\"mutation_positions\"] = df_mutation_locis.apply(lambda row: boolean_mask_of_differences(row[\"parent\"], row[\"child\"]), axis=1)"
   ]
  },
  {
   "cell_type": "code",
   "execution_count": 14,
   "metadata": {},
   "outputs": [
    {
     "name": "stdout",
     "output_type": "stream",
     "text": [
      "[array([False, False, False, ...,  True,  True, False])\n",
      " array([False, False, False, ...,  True,  True, False])\n",
      " array([False, False, False, ...,  True,  True, False]) ...\n",
      " array([False, False, False, ..., False, False, False])\n",
      " array([False, False, False, ...,  True,  True, False])\n",
      " array([False, False, False, ...,  True,  True, False])]\n",
      "(9199,)\n",
      "[  53   85  375 ... 1829 1829    0]\n",
      "29904\n"
     ]
    }
   ],
   "source": [
    "mutation_positions_matrix = df_mutation_locis[\"mutation_positions\"].to_numpy()\n",
    "\n",
    "print(mutation_positions_matrix)\n",
    "print(mutation_positions_matrix.shape)\n",
    "number_mutations = sum(mutation_positions_matrix)\n",
    "print(sum(mutation_positions_matrix))\n",
    "print(len(sum(mutation_positions_matrix)))"
   ]
  },
  {
   "cell_type": "code",
   "execution_count": 18,
   "metadata": {},
   "outputs": [
    {
     "data": {
      "image/png": "[encoded data removed]",
      "text/plain": [
       "<Figure size 1080x432 with 1 Axes>"
      ]
     },
     "metadata": {
      "needs_background": "light"
     },
     "output_type": "display_data"
    }
   ],
   "source": [
    "import matplotlib.pyplot as plt\n",
    "fig = plt.figure(figsize=(15, 6))\n",
    "ax = fig.add_axes([0,0,1,1])\n",
    "number_genetic_loci = range(29904)\n",
    "ax.bar(number_genetic_loci,number_mutations)\n",
    "plt.title('Distribution of mutations of the full SARS-CoV-2 genome')\n",
    "plt.xlabel('Genetic loci')\n",
    "plt.ylabel('Number of mutations')\n",
    "plt.savefig('mutatedGeneticLoci.png', bbox_inches = 'tight')\n",
    "plt.show()"
   ]
  },
  {
   "cell_type": "code",
   "execution_count": null,
   "metadata": {},
   "outputs": [],
   "source": [
    "# TODO: verschiedene Bereiche des Coronavirus verschieden einfärben?"
   ]
  },
  {
   "cell_type": "code",
   "execution_count": null,
   "metadata": {},
   "outputs": [],
   "source": [
    "reference_genome = df_dataset[\"parent\"][0]\n",
    "\n",
    "for m in re.finditer('ATG', reference_genome):\n",
    "         print('AUG found', m.start(), m.end())"
   ]
  },
  {
   "cell_type": "code",
   "execution_count": null,
   "metadata": {},
   "outputs": [],
   "source": []
  },
  {
   "cell_type": "markdown",
   "metadata": {},
   "source": [
    "# Dataset insights: Preprocessed dataset"
   ]
  },
  {
   "cell_type": "code",
   "execution_count": null,
   "metadata": {},
   "outputs": [],
   "source": []
  }
 ],
 "metadata": {
  "kernelspec": {
   "display_name": "Python 3 (ipykernel)",
   "language": "python",
   "name": "python3"
  },
  "language_info": {
   "codemirror_mode": {
    "name": "ipython",
    "version": 3
   },
   "file_extension": ".py",
   "mimetype": "text/x-python",
   "name": "python",
   "nbconvert_exporter": "python",
   "pygments_lexer": "ipython3",
   "version": "3.8.10"
  }
 },
 "nbformat": 4,
 "nbformat_minor": 4
}
