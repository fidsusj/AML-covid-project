{
 "cells": [
  {
   "cell_type": "code",
   "execution_count": 24,
   "metadata": {
    "tags": []
   },
   "outputs": [],
   "source": [
    "import pandas as pd\n",
    "import numpy as np\n",
    "import matplotlib.pyplot as plt\n",
    "import re\n",
    "from Bio.Seq import Seq"
   ]
  },
  {
   "cell_type": "markdown",
   "metadata": {},
   "source": [
    "# Dataset insights: Complete dataset"
   ]
  },
  {
   "cell_type": "code",
   "execution_count": 25,
   "metadata": {
    "collapsed": false,
    "jupyter": {
     "outputs_hidden": false
    },
    "pycharm": {
     "name": "#%%\n"
    }
   },
   "outputs": [],
   "source": [
    "df_dataset = pd.read_csv(\"../data/dataset/final.csv\")"
   ]
  },
  {
   "cell_type": "markdown",
   "metadata": {},
   "source": [
    "## Number of parent child pairs"
   ]
  },
  {
   "cell_type": "code",
   "execution_count": 4,
   "metadata": {},
   "outputs": [
    {
     "data": {
      "text/plain": [
       "parent    9199\n",
       "child     9199\n",
       "dtype: int64"
      ]
     },
     "execution_count": 4,
     "metadata": {},
     "output_type": "execute_result"
    }
   ],
   "source": [
    "df_dataset.count()"
   ]
  },
  {
   "cell_type": "markdown",
   "metadata": {},
   "source": [
    "## Nucleotide distribution"
   ]
  },
  {
   "cell_type": "code",
   "execution_count": 5,
   "metadata": {},
   "outputs": [],
   "source": [
    "def count_nucleotide(seq, nucleotide):\n",
    "    return seq.count(nucleotide)"
   ]
  },
  {
   "cell_type": "code",
   "execution_count": 6,
   "metadata": {
    "collapsed": false,
    "jupyter": {
     "outputs_hidden": false
    },
    "pycharm": {
     "name": "#%%\n"
    }
   },
   "outputs": [
    {
     "name": "stdout",
     "output_type": "stream",
     "text": [
      "Index(['parent', 'child', 'count_A', 'count_T', 'count_G', 'count_C',\n",
      "       'count_N', 'count_-'],\n",
      "      dtype='object')\n"
     ]
    }
   ],
   "source": [
    "df_nucleotide_distribution = df_dataset.copy()\n",
    "\n",
    "df_nucleotide_distribution[\"count_A\"] = df_nucleotide_distribution.apply(lambda row: count_nucleotide(row[\"parent\"], \"A\"), axis=1)\n",
    "df_nucleotide_distribution[\"count_T\"] = df_nucleotide_distribution.apply(lambda row: count_nucleotide(row[\"parent\"], \"T\"), axis=1)\n",
    "df_nucleotide_distribution[\"count_G\"] = df_nucleotide_distribution.apply(lambda row: count_nucleotide(row[\"parent\"], \"G\"), axis=1)\n",
    "df_nucleotide_distribution[\"count_C\"] = df_nucleotide_distribution.apply(lambda row: count_nucleotide(row[\"parent\"], \"C\"), axis=1)\n",
    "df_nucleotide_distribution[\"count_N\"] = df_nucleotide_distribution.apply(lambda row: count_nucleotide(row[\"parent\"], \"N\"), axis=1)\n",
    "df_nucleotide_distribution[\"count_-\"] = df_nucleotide_distribution.apply(lambda row: count_nucleotide(row[\"parent\"], \"-\"), axis=1)\n",
    "\n",
    "print(df_nucleotide_distribution.columns)"
   ]
  },
  {
   "cell_type": "code",
   "execution_count": 7,
   "metadata": {},
   "outputs": [
    {
     "data": {
      "text/plain": [
       "(array([1.000e+00, 0.000e+00, 0.000e+00, 0.000e+00, 0.000e+00, 0.000e+00,\n",
       "        0.000e+00, 0.000e+00, 0.000e+00, 0.000e+00, 0.000e+00, 0.000e+00,\n",
       "        0.000e+00, 0.000e+00, 0.000e+00, 0.000e+00, 0.000e+00, 0.000e+00,\n",
       "        0.000e+00, 0.000e+00, 0.000e+00, 0.000e+00, 0.000e+00, 0.000e+00,\n",
       "        0.000e+00, 0.000e+00, 1.000e+00, 0.000e+00, 0.000e+00, 0.000e+00,\n",
       "        0.000e+00, 0.000e+00, 0.000e+00, 0.000e+00, 0.000e+00, 0.000e+00,\n",
       "        0.000e+00, 0.000e+00, 0.000e+00, 0.000e+00, 0.000e+00, 1.000e+00,\n",
       "        0.000e+00, 0.000e+00, 0.000e+00, 0.000e+00, 0.000e+00, 0.000e+00,\n",
       "        0.000e+00, 0.000e+00, 0.000e+00, 0.000e+00, 0.000e+00, 0.000e+00,\n",
       "        0.000e+00, 0.000e+00, 2.000e+00, 0.000e+00, 0.000e+00, 2.000e+00,\n",
       "        3.000e+00, 0.000e+00, 0.000e+00, 2.000e+00, 0.000e+00, 0.000e+00,\n",
       "        0.000e+00, 3.000e+00, 4.000e+00, 0.000e+00, 4.000e+00, 5.000e+00,\n",
       "        3.000e+00, 3.000e+00, 1.000e+00, 4.000e+00, 1.300e+01, 1.300e+01,\n",
       "        2.100e+01, 1.700e+01, 4.000e+01, 4.900e+01, 6.700e+01, 6.400e+01,\n",
       "        9.500e+01, 6.300e+01, 1.040e+02, 1.190e+02, 9.000e+01, 1.410e+02,\n",
       "        1.830e+02, 3.110e+02, 2.610e+02, 9.430e+02, 6.330e+02, 6.800e+02,\n",
       "        9.390e+02, 2.983e+03, 3.050e+02, 1.026e+03]),\n",
       " array([6566.  , 6589.92, 6613.84, 6637.76, 6661.68, 6685.6 , 6709.52,\n",
       "        6733.44, 6757.36, 6781.28, 6805.2 , 6829.12, 6853.04, 6876.96,\n",
       "        6900.88, 6924.8 , 6948.72, 6972.64, 6996.56, 7020.48, 7044.4 ,\n",
       "        7068.32, 7092.24, 7116.16, 7140.08, 7164.  , 7187.92, 7211.84,\n",
       "        7235.76, 7259.68, 7283.6 , 7307.52, 7331.44, 7355.36, 7379.28,\n",
       "        7403.2 , 7427.12, 7451.04, 7474.96, 7498.88, 7522.8 , 7546.72,\n",
       "        7570.64, 7594.56, 7618.48, 7642.4 , 7666.32, 7690.24, 7714.16,\n",
       "        7738.08, 7762.  , 7785.92, 7809.84, 7833.76, 7857.68, 7881.6 ,\n",
       "        7905.52, 7929.44, 7953.36, 7977.28, 8001.2 , 8025.12, 8049.04,\n",
       "        8072.96, 8096.88, 8120.8 , 8144.72, 8168.64, 8192.56, 8216.48,\n",
       "        8240.4 , 8264.32, 8288.24, 8312.16, 8336.08, 8360.  , 8383.92,\n",
       "        8407.84, 8431.76, 8455.68, 8479.6 , 8503.52, 8527.44, 8551.36,\n",
       "        8575.28, 8599.2 , 8623.12, 8647.04, 8670.96, 8694.88, 8718.8 ,\n",
       "        8742.72, 8766.64, 8790.56, 8814.48, 8838.4 , 8862.32, 8886.24,\n",
       "        8910.16, 8934.08, 8958.  ]),\n",
       " <BarContainer object of 100 artists>)"
      ]
     },
     "execution_count": 7,
     "metadata": {},
     "output_type": "execute_result"
    },
    {
     "data": {
      "image/png": "[encoded data removed]",
      "text/plain": [
       "<Figure size 432x288 with 1 Axes>"
      ]
     },
     "metadata": {
      "needs_background": "light"
     },
     "output_type": "display_data"
    }
   ],
   "source": [
    "plt.hist(df_nucleotide_distribution[\"count_A\"], bins=100)\n",
    "#TODO: nice plots of nucleotide distibution"
   ]
  },
  {
   "cell_type": "markdown",
   "metadata": {},
   "source": [
    "## Differences between parent child sequences"
   ]
  },
  {
   "cell_type": "code",
   "execution_count": 93,
   "metadata": {},
   "outputs": [
    {
     "name": "stdout",
     "output_type": "stream",
     "text": [
      "From 9199 parent child pairs 396 pairs are completely equal\n"
     ]
    }
   ],
   "source": [
    "def equal_columns(df_dataset):\n",
    "    comparison_column = np.where(df_dataset[\"parent\"] == df_dataset[\"child\"], True, False)\n",
    "    print(\"From {} parent child pairs {} pairs are completely equal\".format(df_dataset[\"parent\"].count(), comparison_column.sum()))\n",
    "\n",
    "equal_columns(df_dataset)"
   ]
  },
  {
   "cell_type": "code",
   "execution_count": 94,
   "metadata": {},
   "outputs": [],
   "source": [
    "def count_string_differences(seq1, seq2):\n",
    "    count = sum(1 for a, b in zip(seq1, seq2) if a != b)\n",
    "    return count"
   ]
  },
  {
   "cell_type": "code",
   "execution_count": 10,
   "metadata": {},
   "outputs": [],
   "source": [
    "df_dataset[\"count_different_nucleotides\"] = df_dataset.apply(lambda row: count_string_differences(row[\"parent\"], row[\"child\"]), axis=1)"
   ]
  },
  {
   "cell_type": "code",
   "execution_count": 11,
   "metadata": {},
   "outputs": [
    {
     "data": {
      "image/png": "[encoded data removed]",
      "text/plain": [
       "<Figure size 432x288 with 1 Axes>"
      ]
     },
     "metadata": {
      "needs_background": "light"
     },
     "output_type": "display_data"
    }
   ],
   "source": [
    "plt.hist(df_dataset[\"count_different_nucleotides\"], bins=100)\n",
    "plt.xlabel('Number of different characters')\n",
    "plt.ylabel('Number of parent child pairs')\n",
    "plt.title('Differences between parent child pairs')\n",
    "plt.savefig('distributionDifferencesParentChild.png')\n",
    "plt.show()"
   ]
  },
  {
   "cell_type": "markdown",
   "metadata": {},
   "source": [
    "## Which genetic loci are often mutated?"
   ]
  },
  {
   "cell_type": "code",
   "execution_count": 97,
   "metadata": {},
   "outputs": [],
   "source": [
    "def boolean_mask_of_differences(parent, child):\n",
    "    # mutation = difference -> True\n",
    "    return np.array(list(parent)) != np.array(list(child))"
   ]
  },
  {
   "cell_type": "code",
   "execution_count": 27,
   "metadata": {},
   "outputs": [],
   "source": [
    "df_mutation_locis = df_dataset.copy()\n",
    "df_mutation_locis[\"mutation_positions\"] = df_mutation_locis.apply(lambda row: boolean_mask_of_differences(row[\"parent\"], row[\"child\"]), axis=1)"
   ]
  },
  {
   "cell_type": "code",
   "execution_count": 28,
   "metadata": {},
   "outputs": [
    {
     "name": "stdout",
     "output_type": "stream",
     "text": [
      "[array([False, False, False, ...,  True,  True, False])\n",
      " array([False, False, False, ...,  True,  True, False])\n",
      " array([False, False, False, ...,  True,  True, False]) ...\n",
      " array([False, False, False, ..., False, False, False])\n",
      " array([False, False, False, ...,  True,  True, False])\n",
      " array([False, False, False, ...,  True,  True, False])]\n",
      "(9199,)\n",
      "[  53   85  375 ... 1829 1829    0]\n",
      "29904\n"
     ]
    }
   ],
   "source": [
    "mutation_positions_matrix = df_mutation_locis[\"mutation_positions\"].to_numpy()\n",
    "\n",
    "print(mutation_positions_matrix)\n",
    "print(mutation_positions_matrix.shape)\n",
    "number_mutations = sum(mutation_positions_matrix)\n",
    "print(sum(mutation_positions_matrix))\n",
    "print(len(sum(mutation_positions_matrix)))"
   ]
  },
  {
   "cell_type": "code",
   "execution_count": 18,
   "metadata": {},
   "outputs": [
    {
     "data": {
      "image/png": "[encoded data removed]",
      "text/plain": [
       "<Figure size 1080x432 with 1 Axes>"
      ]
     },
     "metadata": {
      "needs_background": "light"
     },
     "output_type": "display_data"
    }
   ],
   "source": [
    "import matplotlib.pyplot as plt\n",
    "fig = plt.figure(figsize=(15, 6))\n",
    "ax = fig.add_axes([0,0,1,1])\n",
    "number_genetic_loci = range(29904)\n",
    "ax.bar(number_genetic_loci,number_mutations)\n",
    "plt.title('Distribution of mutations of the full SARS-CoV-2 genome')\n",
    "plt.xlabel('Genetic loci')\n",
    "plt.ylabel('Number of mutations')\n",
    "plt.savefig('mutatedGeneticLoci.png', bbox_inches = 'tight')\n",
    "plt.show()"
   ]
  },
  {
   "cell_type": "code",
   "execution_count": null,
   "metadata": {},
   "outputs": [],
   "source": [
    "# TODO: verschiedene Bereiche des Coronavirus verschieden einfärben?"
   ]
  },
  {
   "cell_type": "code",
   "execution_count": 38,
   "metadata": {},
   "outputs": [
    {
     "data": {
      "text/plain": [
       "array([1046, 1047, 1047, 1047, 1043, 1040, 1040, 1064, 1059, 1055, 1063,\n",
       "       1060, 1067, 1107, 1110, 1123, 1087, 1103, 1112, 1101, 1107, 1122,\n",
       "       1118, 1124, 1110, 1096, 1103, 1099, 1105, 1093, 1110, 1086, 1091,\n",
       "       1088, 1098, 1113, 1111, 1107, 1113, 1124, 1120, 1120, 1111, 1120,\n",
       "       1119, 1256, 1115, 1110, 1111, 1105, 1105, 1118, 1091, 1101, 1120,\n",
       "       1112, 1113, 1111, 1087, 1076, 1081, 1093, 1092, 1083, 1081, 1089,\n",
       "       1093, 1114, 1111, 1108, 1111, 1131, 1126, 1124, 1109, 1112, 1111,\n",
       "       1109, 1096, 1089, 1092, 1106, 1094, 1097, 1085, 1079, 1162, 1163,\n",
       "       1174, 1168, 1167, 1170, 1175, 1174, 1173, 1184, 1210, 1205, 1192])"
      ]
     },
     "execution_count": 38,
     "metadata": {},
     "output_type": "execute_result"
    }
   ],
   "source": [
    "# Where are lots of mutations?\n",
    "number_mutations[21800:21899]"
   ]
  },
  {
   "cell_type": "code",
   "execution_count": null,
   "metadata": {},
   "outputs": [],
   "source": [
    "reference_genome = df_dataset[\"parent\"][0]\n",
    "\n",
    "for m in re.finditer('ATG', reference_genome):\n",
    "         print('AUG found', m.start(), m.end())"
   ]
  },
  {
   "cell_type": "code",
   "execution_count": null,
   "metadata": {},
   "outputs": [],
   "source": []
  },
  {
   "cell_type": "markdown",
   "metadata": {},
   "source": [
    "# Dataset insights: Preprocessed dataset"
   ]
  },
  {
   "cell_type": "code",
   "execution_count": 39,
   "metadata": {},
   "outputs": [],
   "source": [
    "\"\"\" Module for custom dataset preprocessing \"\"\"\n",
    "import pandas as pd\n",
    "import torch\n",
    "from sklearn.model_selection import train_test_split\n",
    "from torch.utils.data import DataLoader, Dataset\n",
    "\n",
    "\n",
    "class Vocabulary:\n",
    "    def __init__(self):\n",
    "        self.itos = {0: \"<PAD>\", 1: \"<SOS>\", 2: \"<EOS>\", 3: \"<UNK>\"}\n",
    "        self.stoi = {\"<PAD>\": 0, \"<SOS>\": 1, \"<EOS>\": 2, \"<UNK>\": 3}\n",
    "\n",
    "    def __len__(self):\n",
    "        return len(self.itos)\n",
    "\n",
    "    @staticmethod\n",
    "    def tokenizer_codons(sequence):\n",
    "        codons = []\n",
    "        for i in range(0, len(sequence), 3):\n",
    "            amino_acid = sequence[i:i + 3]\n",
    "            if amino_acid == \"---\":\n",
    "                codons.append(\"<PAD>\")\n",
    "            elif \"-\" in amino_acid or \"N\" in amino_acid or len(amino_acid) < 3:\n",
    "                codons.append(\"<UNK>\")\n",
    "            else:\n",
    "                codons.append(amino_acid)\n",
    "        return codons\n",
    "\n",
    "    def build_vocabulary(self, sequence_list):\n",
    "        index = 4\n",
    "        for sequence in sequence_list:\n",
    "            for codon in self.tokenizer_codons(sequence):\n",
    "                if codon not in self.stoi:\n",
    "                    self.stoi[codon] = index\n",
    "                    self.itos[index] = codon\n",
    "                    index += 1\n",
    "\n",
    "    def numericalize(self, sequence):\n",
    "        return [self.stoi[token] for token in self.tokenizer_codons(sequence)]\n",
    "\n",
    "\n",
    "class CustomGISAIDDataset(Dataset):\n",
    "    def __init__(self, dataset_file, test_set_size=0.05, train=True, strain_begin=21800, strain_end=21899):   #101 - 2000\n",
    "        # Load the data and restrict to RNA strains\n",
    "        print(\"Loading data and cutting to strains...\")\n",
    "        self.df_dataset = pd.read_csv(dataset_file)\n",
    "        self.df_dataset[\"parent\"] = self.df_dataset[\"parent\"].str[strain_begin:strain_end]\n",
    "        self.df_dataset[\"child\"] = self.df_dataset[\"child\"].str[strain_begin:strain_end]\n",
    "\n",
    "        self.strain_begin = strain_begin\n",
    "        self.strain_end = strain_end\n",
    "        self.train = train\n",
    "\n",
    "        # Initialize vocabulary and build vocabulary\n",
    "        print(\"Building vocabulary...\")\n",
    "        self.parent_vocab = Vocabulary()\n",
    "        self.parent_vocab.build_vocabulary(self.df_dataset[\"parent\"].tolist())\n",
    "        self.child_vocab = Vocabulary()\n",
    "        self.child_vocab.build_vocabulary(self.df_dataset[\"child\"].tolist())\n",
    "\n",
    "        # Initialize vocabulary and build vocabulary\n",
    "        print(\"Train test split...\")\n",
    "        self.df_train, self.df_test = train_test_split(self.df_dataset, test_size=test_set_size)\n",
    "        chosen_dataset = self.df_train if train else self.df_test\n",
    "        self.parent = chosen_dataset[\"parent\"]\n",
    "        self.child = chosen_dataset[\"child\"]\n",
    "\n",
    "        # Numericalize sequences\n",
    "        print(\"Numericalize sequences...\")\n",
    "        self.parent = self.parent.apply(lambda sequence: [self.parent_vocab.stoi[\"<SOS>\"]] + self.parent_vocab.numericalize(sequence) + [self.parent_vocab.stoi[\"<EOS>\"]])\n",
    "        self.child = self.child.apply(lambda sequence: [self.child_vocab.stoi[\"<SOS>\"]] + self.child_vocab.numericalize(sequence) + [self.child_vocab.stoi[\"<EOS>\"]])\n",
    "\n",
    "    def __getitem__(self, index):\n",
    "        return torch.tensor(self.parent.iloc[index]), torch.tensor(self.child.iloc[index])\n",
    "\n",
    "    def __len__(self):\n",
    "        return len(self.df_train) if self.train else len(self.df_test)\n",
    "\n",
    "\n",
    "def get_loader(dataset_file, test_set_size=0.05, batch_size=32, train=True, num_workers=4):\n",
    "    dataset = CustomGISAIDDataset(dataset_file, test_set_size=test_set_size, train=train)\n",
    "    return dataset, DataLoader(\n",
    "        dataset=dataset,\n",
    "        batch_size=batch_size,\n",
    "        num_workers=num_workers,\n",
    "        shuffle=True,\n",
    "        pin_memory=True,\n",
    "    )"
   ]
  },
  {
   "cell_type": "code",
   "execution_count": 40,
   "metadata": {},
   "outputs": [
    {
     "name": "stdout",
     "output_type": "stream",
     "text": [
      "Loading data and cutting to strains...\n",
      "Building vocabulary...\n",
      "Train test split...\n",
      "Numericalize sequences...\n"
     ]
    }
   ],
   "source": [
    "train_dataset, data_loader = get_loader(\"/home/st/AML-covid-project/src/data/dataset/final.csv\", test_set_size=0.05, batch_size=32, train=True)"
   ]
  },
  {
   "cell_type": "code",
   "execution_count": 70,
   "metadata": {},
   "outputs": [],
   "source": [
    "train_dataset_as_list = list(torch.utils.data.DataLoader(train_dataset, num_workers=0))"
   ]
  },
  {
   "cell_type": "code",
   "execution_count": 87,
   "metadata": {},
   "outputs": [],
   "source": [
    "data = []\n",
    "for pair in train_dataset_as_list:\n",
    "    data.append([pair[0].tolist()[0], pair[1].tolist()[0]])"
   ]
  },
  {
   "cell_type": "code",
   "execution_count": 90,
   "metadata": {},
   "outputs": [],
   "source": [
    "df_preprocessed = pd.DataFrame(data, columns=[\"parent\", \"child\"])"
   ]
  },
  {
   "cell_type": "code",
   "execution_count": 91,
   "metadata": {},
   "outputs": [
    {
     "data": {
      "text/html": [
       "<div>\n",
       "<style scoped>\n",
       "    .dataframe tbody tr th:only-of-type {\n",
       "        vertical-align: middle;\n",
       "    }\n",
       "\n",
       "    .dataframe tbody tr th {\n",
       "        vertical-align: top;\n",
       "    }\n",
       "\n",
       "    .dataframe thead th {\n",
       "        text-align: right;\n",
       "    }\n",
       "</style>\n",
       "<table border=\"1\" class=\"dataframe\">\n",
       "  <thead>\n",
       "    <tr style=\"text-align: right;\">\n",
       "      <th></th>\n",
       "      <th>parent</th>\n",
       "      <th>child</th>\n",
       "    </tr>\n",
       "  </thead>\n",
       "  <tbody>\n",
       "    <tr>\n",
       "      <th>0</th>\n",
       "      <td>[1, 4, 5, 6, 7, 8, 9, 10, 11, 11, 12, 13, 14, ...</td>\n",
       "      <td>[1, 4, 5, 6, 7, 8, 9, 10, 11, 11, 12, 13, 14, ...</td>\n",
       "    </tr>\n",
       "    <tr>\n",
       "      <th>1</th>\n",
       "      <td>[1, 4, 5, 6, 7, 8, 9, 10, 11, 11, 12, 13, 14, ...</td>\n",
       "      <td>[1, 4, 5, 6, 7, 8, 9, 10, 11, 11, 12, 13, 14, ...</td>\n",
       "    </tr>\n",
       "    <tr>\n",
       "      <th>2</th>\n",
       "      <td>[1, 4, 5, 6, 7, 8, 9, 10, 11, 11, 12, 13, 14, ...</td>\n",
       "      <td>[1, 4, 5, 6, 7, 8, 9, 10, 11, 11, 12, 13, 14, ...</td>\n",
       "    </tr>\n",
       "    <tr>\n",
       "      <th>3</th>\n",
       "      <td>[1, 4, 5, 6, 7, 8, 9, 10, 11, 11, 12, 13, 14, ...</td>\n",
       "      <td>[1, 4, 5, 6, 7, 8, 9, 10, 11, 11, 12, 13, 14, ...</td>\n",
       "    </tr>\n",
       "    <tr>\n",
       "      <th>4</th>\n",
       "      <td>[1, 4, 5, 6, 7, 8, 9, 10, 11, 11, 12, 13, 14, ...</td>\n",
       "      <td>[1, 4, 5, 6, 7, 8, 9, 10, 11, 11, 12, 13, 14, ...</td>\n",
       "    </tr>\n",
       "    <tr>\n",
       "      <th>...</th>\n",
       "      <td>...</td>\n",
       "      <td>...</td>\n",
       "    </tr>\n",
       "    <tr>\n",
       "      <th>8734</th>\n",
       "      <td>[1, 4, 5, 6, 7, 8, 9, 10, 3, 3, 3, 3, 3, 3, 3,...</td>\n",
       "      <td>[1, 3, 3, 3, 3, 3, 3, 3, 3, 3, 3, 3, 3, 3, 3, ...</td>\n",
       "    </tr>\n",
       "    <tr>\n",
       "      <th>8735</th>\n",
       "      <td>[1, 3, 3, 3, 3, 3, 3, 3, 3, 3, 3, 3, 3, 3, 3, ...</td>\n",
       "      <td>[1, 4, 5, 6, 7, 8, 9, 10, 11, 11, 12, 13, 14, ...</td>\n",
       "    </tr>\n",
       "    <tr>\n",
       "      <th>8736</th>\n",
       "      <td>[1, 4, 5, 6, 7, 8, 9, 10, 11, 11, 12, 13, 14, ...</td>\n",
       "      <td>[1, 4, 5, 6, 7, 8, 9, 10, 11, 11, 12, 13, 14, ...</td>\n",
       "    </tr>\n",
       "    <tr>\n",
       "      <th>8737</th>\n",
       "      <td>[1, 4, 5, 6, 7, 8, 9, 10, 11, 11, 12, 13, 14, ...</td>\n",
       "      <td>[1, 4, 5, 6, 7, 8, 9, 10, 11, 11, 12, 13, 14, ...</td>\n",
       "    </tr>\n",
       "    <tr>\n",
       "      <th>8738</th>\n",
       "      <td>[1, 4, 5, 6, 7, 8, 9, 10, 11, 11, 12, 13, 14, ...</td>\n",
       "      <td>[1, 4, 5, 6, 7, 8, 9, 10, 11, 11, 12, 13, 14, ...</td>\n",
       "    </tr>\n",
       "  </tbody>\n",
       "</table>\n",
       "<p>8739 rows × 2 columns</p>\n",
       "</div>"
      ],
      "text/plain": [
       "                                                 parent  \\\n",
       "0     [1, 4, 5, 6, 7, 8, 9, 10, 11, 11, 12, 13, 14, ...   \n",
       "1     [1, 4, 5, 6, 7, 8, 9, 10, 11, 11, 12, 13, 14, ...   \n",
       "2     [1, 4, 5, 6, 7, 8, 9, 10, 11, 11, 12, 13, 14, ...   \n",
       "3     [1, 4, 5, 6, 7, 8, 9, 10, 11, 11, 12, 13, 14, ...   \n",
       "4     [1, 4, 5, 6, 7, 8, 9, 10, 11, 11, 12, 13, 14, ...   \n",
       "...                                                 ...   \n",
       "8734  [1, 4, 5, 6, 7, 8, 9, 10, 3, 3, 3, 3, 3, 3, 3,...   \n",
       "8735  [1, 3, 3, 3, 3, 3, 3, 3, 3, 3, 3, 3, 3, 3, 3, ...   \n",
       "8736  [1, 4, 5, 6, 7, 8, 9, 10, 11, 11, 12, 13, 14, ...   \n",
       "8737  [1, 4, 5, 6, 7, 8, 9, 10, 11, 11, 12, 13, 14, ...   \n",
       "8738  [1, 4, 5, 6, 7, 8, 9, 10, 11, 11, 12, 13, 14, ...   \n",
       "\n",
       "                                                  child  \n",
       "0     [1, 4, 5, 6, 7, 8, 9, 10, 11, 11, 12, 13, 14, ...  \n",
       "1     [1, 4, 5, 6, 7, 8, 9, 10, 11, 11, 12, 13, 14, ...  \n",
       "2     [1, 4, 5, 6, 7, 8, 9, 10, 11, 11, 12, 13, 14, ...  \n",
       "3     [1, 4, 5, 6, 7, 8, 9, 10, 11, 11, 12, 13, 14, ...  \n",
       "4     [1, 4, 5, 6, 7, 8, 9, 10, 11, 11, 12, 13, 14, ...  \n",
       "...                                                 ...  \n",
       "8734  [1, 3, 3, 3, 3, 3, 3, 3, 3, 3, 3, 3, 3, 3, 3, ...  \n",
       "8735  [1, 4, 5, 6, 7, 8, 9, 10, 11, 11, 12, 13, 14, ...  \n",
       "8736  [1, 4, 5, 6, 7, 8, 9, 10, 11, 11, 12, 13, 14, ...  \n",
       "8737  [1, 4, 5, 6, 7, 8, 9, 10, 11, 11, 12, 13, 14, ...  \n",
       "8738  [1, 4, 5, 6, 7, 8, 9, 10, 11, 11, 12, 13, 14, ...  \n",
       "\n",
       "[8739 rows x 2 columns]"
      ]
     },
     "execution_count": 91,
     "metadata": {},
     "output_type": "execute_result"
    }
   ],
   "source": [
    "df_preprocessed"
   ]
  },
  {
   "cell_type": "markdown",
   "metadata": {},
   "source": [
    "## Differences between parent child sequences"
   ]
  },
  {
   "cell_type": "code",
   "execution_count": 95,
   "metadata": {},
   "outputs": [
    {
     "name": "stdout",
     "output_type": "stream",
     "text": [
      "From 8739 parent child pairs 6946 pairs are completely equal\n"
     ]
    }
   ],
   "source": [
    "equal_columns(df_preprocessed)\n",
    "df_preprocessed[\"count_different_nucleotides\"] = df_preprocessed.apply(lambda row: count_string_differences(row[\"parent\"], row[\"child\"]), axis=1)"
   ]
  },
  {
   "cell_type": "code",
   "execution_count": 96,
   "metadata": {},
   "outputs": [
    {
     "data": {
      "image/png": "[encoded data removed]",
      "text/plain": [
       "<Figure size 432x288 with 1 Axes>"
      ]
     },
     "metadata": {
      "needs_background": "light"
     },
     "output_type": "display_data"
    }
   ],
   "source": [
    "plt.hist(df_preprocessed[\"count_different_nucleotides\"], bins=100)\n",
    "plt.xlabel('Number of different characters')\n",
    "plt.ylabel('Number of parent child pairs')\n",
    "plt.title('Preprocessed dataset: Differences between parent child pairs')\n",
    "plt.savefig('preprocessedDistributionDifferencesParentChild.png')\n",
    "plt.show()"
   ]
  },
  {
   "cell_type": "markdown",
   "metadata": {},
   "source": [
    "## Which genetic loci are often mutated?"
   ]
  },
  {
   "cell_type": "code",
   "execution_count": 98,
   "metadata": {},
   "outputs": [],
   "source": [
    "df_mutation_locis_pre = df_preprocessed.copy()\n",
    "df_mutation_locis_pre[\"mutation_positions\"] = df_mutation_locis_pre.apply(lambda row: boolean_mask_of_differences(row[\"parent\"], row[\"child\"]), axis=1)"
   ]
  },
  {
   "cell_type": "code",
   "execution_count": 99,
   "metadata": {},
   "outputs": [
    {
     "name": "stdout",
     "output_type": "stream",
     "text": [
      "[array([False, False, False, False, False, False, False, False, False,\n",
      "        False, False, False, False, False, False, False, False, False,\n",
      "        False, False, False, False, False, False, False, False, False,\n",
      "        False, False, False, False, False, False, False, False])\n",
      " array([False, False, False, False, False, False, False, False, False,\n",
      "        False, False, False, False, False, False, False, False, False,\n",
      "        False, False, False, False, False, False, False, False, False,\n",
      "        False, False, False, False, False, False, False, False])\n",
      " array([False, False, False, False, False, False, False, False, False,\n",
      "        False, False, False, False, False, False, False, False, False,\n",
      "        False, False, False, False, False, False, False, False, False,\n",
      "        False, False, False, False, False, False, False, False])       ...\n",
      " array([False, False, False, False, False, False, False, False, False,\n",
      "        False, False, False, False, False, False, False, False, False,\n",
      "        False, False, False, False, False, False, False, False, False,\n",
      "        False, False, False, False, False, False, False, False])\n",
      " array([False, False, False, False, False, False, False, False, False,\n",
      "        False, False, False, False, False, False, False, False, False,\n",
      "        False, False, False, False, False, False, False, False, False,\n",
      "        False, False, False, False, False, False, False, False])\n",
      " array([False, False, False, False, False, False, False, False, False,\n",
      "        False, False, False, False, False, False, False, False, False,\n",
      "        False, False, False, False, False, False, False, False, False,\n",
      "        False, False, False, False, False, False, False, False])      ]\n",
      "(8739,)\n",
      "35602\n",
      "35\n"
     ]
    }
   ],
   "source": [
    "mutation_positions_matrix_pre = df_mutation_locis_pre[\"mutation_positions\"].to_numpy()\n",
    "\n",
    "print(mutation_positions_matrix_pre)\n",
    "print(mutation_positions_matrix_pre.shape)\n",
    "number_mutations_pre = sum(mutation_positions_matrix_pre)\n",
    "print(sum(number_mutations_pre))\n",
    "print(len(sum(mutation_positions_matrix_pre)))"
   ]
  },
  {
   "cell_type": "code",
   "execution_count": 101,
   "metadata": {},
   "outputs": [
    {
     "data": {
      "image/png": "[encoded data removed]",
      "text/plain": [
       "<Figure size 1080x432 with 1 Axes>"
      ]
     },
     "metadata": {
      "needs_background": "light"
     },
     "output_type": "display_data"
    }
   ],
   "source": [
    "import matplotlib.pyplot as plt\n",
    "fig = plt.figure(figsize=(15, 6))\n",
    "ax = fig.add_axes([0,0,1,1])\n",
    "number_amino_acids = range(35)\n",
    "ax.bar(number_amino_acids,number_mutations_pre)\n",
    "plt.title('Preprocessed dataset: Distribution of mutations of the full SARS-CoV-2 genome')\n",
    "plt.xlabel('Amino acid position')\n",
    "plt.ylabel('Number of mutations')\n",
    "plt.savefig('preprocessedMutatedGeneticLoci.png', bbox_inches = 'tight')\n",
    "plt.show()"
   ]
  },
  {
   "cell_type": "code",
   "execution_count": null,
   "metadata": {},
   "outputs": [],
   "source": []
  }
 ],
 "metadata": {
  "kernelspec": {
   "display_name": "Python 3",
   "language": "python",
   "name": "python3"
  },
  "language_info": {
   "codemirror_mode": {
    "name": "ipython",
    "version": 3
   },
   "file_extension": ".py",
   "mimetype": "text/x-python",
   "name": "python",
   "nbconvert_exporter": "python",
   "pygments_lexer": "ipython3",
   "version": "3.8.10"
  }
 },
 "nbformat": 4,
 "nbformat_minor": 4
}
